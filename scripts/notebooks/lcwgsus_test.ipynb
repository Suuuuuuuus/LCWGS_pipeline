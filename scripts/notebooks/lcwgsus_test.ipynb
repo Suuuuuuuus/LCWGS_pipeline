{
 "cells": [
  {
   "cell_type": "code",
   "execution_count": 1,
   "id": "061745ef",
   "metadata": {},
   "outputs": [
    {
     "name": "stdout",
     "output_type": "stream",
     "text": [
      "/gpfs3/well/band/users/rbx225/GAMCC\n"
     ]
    }
   ],
   "source": [
    "import io\n",
    "import os\n",
    "import sys\n",
    "import csv\n",
    "import gzip\n",
    "import time\n",
    "import json\n",
    "import secrets\n",
    "import multiprocessing\n",
    "import subprocess\n",
    "import resource\n",
    "import pandas as pd\n",
    "import sqlite3\n",
    "import matplotlib.pyplot as plt\n",
    "import numpy as np\n",
    "import scipy as sp\n",
    "import statsmodels.api as sm\n",
    "import random\n",
    "from collections import Counter\n",
    "import seaborn as sns\n",
    "import matplotlib.colors as mcolors\n",
    "import itertools\n",
    "import collections\n",
    "sys.path.append('/well/band/users/rbx225/software/lcwgsus/')\n",
    "# sys.path.append('/Users/sus_zhang/Desktop/Suuuuuuuus/lcwgsus/')\n",
    "import lcwgsus\n",
    "\n",
    "from scipy.stats import poisson\n",
    "from scipy.stats import chi2\n",
    "from scipy.stats import friedmanchisquare\n",
    "from scipy.stats import studentized_range\n",
    "pd.options.mode.chained_assignment = None\n",
    "%cd /gpfs3/well/band/users/rbx225/GAMCC/\n",
    "\n",
    "# from matplotlib import colormaps\n",
    "# list(colormaps)"
   ]
  },
  {
   "cell_type": "code",
   "execution_count": 2,
   "id": "b3dae4fe",
   "metadata": {},
   "outputs": [],
   "source": [
    "chip_vcf = '/well/band/users/rbx225/GAMCC/results/lr_imputation/truth/lr.vcf.gz'\n",
    "lc_vcf = '/well/band/users/rbx225/GAMCC/results/lr_imputation/vcfs/oneKG/quilt.vcf.gz'\n",
    "af_txt = \"data/gnomAD_MAFs/afr/gnomAD_MAF_afr_chr21.txt\"\n",
    "\n",
    "chromosomes = [str(i) for i in range(1,23)]\n",
    "\n",
    "# chip, lc, af = lcwgsus.imputation_calculation_preprocess(chip_vcf, lc_vcf, af_txt)"
   ]
  },
  {
   "cell_type": "code",
   "execution_count": 3,
   "id": "7ac025b4",
   "metadata": {},
   "outputs": [],
   "source": [
    "v_lst = [\"results/imputation_comparison/oneKG/lc_chip_typed/impacc/all_samples/by_sample/chr\" + i + \".v.impacc.tsv\" for i in chromosomes]\n",
    "h_dfs = [pd.read_csv(i, sep = '\\t') for i in v_lst]\n",
    "h = lcwgsus.average_impacc_by_chr(h_dfs, save_file = True, outdir = \"results/imputation_comparison/oneKG/lc_chip_typed/impacc/all_samples/by_sample/\", save_name = 'all.v.impacc.tsv')"
   ]
  },
  {
   "cell_type": "code",
   "execution_count": null,
   "id": "0dc37487",
   "metadata": {},
   "outputs": [],
   "source": []
  }
 ],
 "metadata": {
  "kernelspec": {
   "display_name": "Python 3 (ipykernel)",
   "language": "python",
   "name": "python3"
  },
  "language_info": {
   "codemirror_mode": {
    "name": "ipython",
    "version": 3
   },
   "file_extension": ".py",
   "mimetype": "text/x-python",
   "name": "python",
   "nbconvert_exporter": "python",
   "pygments_lexer": "ipython3",
   "version": "3.9.12"
  }
 },
 "nbformat": 4,
 "nbformat_minor": 5
}
