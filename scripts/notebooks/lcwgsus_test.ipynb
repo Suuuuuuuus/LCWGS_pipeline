{
 "cells": [
  {
   "cell_type": "code",
   "execution_count": 1,
   "id": "061745ef",
   "metadata": {},
   "outputs": [
    {
     "name": "stdout",
     "output_type": "stream",
     "text": [
      "/gpfs3/well/band/users/rbx225/GAMCC\n"
     ]
    }
   ],
   "source": [
    "import io\n",
    "import os\n",
    "import sys\n",
    "import csv\n",
    "import gzip\n",
    "import time\n",
    "import json\n",
    "import secrets\n",
    "import multiprocessing\n",
    "import subprocess\n",
    "import resource\n",
    "import pandas as pd\n",
    "import sqlite3\n",
    "import matplotlib.pyplot as plt\n",
    "import numpy as np\n",
    "import scipy as sp\n",
    "import statsmodels.api as sm\n",
    "import random\n",
    "from collections import Counter\n",
    "import seaborn as sns\n",
    "import matplotlib.colors as mcolors\n",
    "import itertools\n",
    "import collections\n",
    "sys.path.append('/well/band/users/rbx225/software/lcwgsus/')\n",
    "# sys.path.append('/Users/sus_zhang/Desktop/Suuuuuuuus/lcwgsus/')\n",
    "import lcwgsus\n",
    "from lcwgsus.variables import *\n",
    "\n",
    "from scipy.stats import poisson\n",
    "from scipy.stats import chi2\n",
    "from scipy.stats import friedmanchisquare\n",
    "from scipy.stats import studentized_range\n",
    "pd.options.mode.chained_assignment = None\n",
    "%cd /gpfs3/well/band/users/rbx225/GAMCC/\n",
    "\n",
    "# from matplotlib import colormaps\n",
    "# list(colormaps)"
   ]
  },
  {
   "cell_type": "code",
   "execution_count": 11,
   "id": "5bb41a3b",
   "metadata": {},
   "outputs": [
    {
     "data": {
      "text/plain": [
       "2.0794415416798357"
      ]
     },
     "execution_count": 11,
     "metadata": {},
     "output_type": "execute_result"
    }
   ],
   "source": [
    "def calculate_shannon_entropy(str_lst):\n",
    "    counts = Counter(str_lst)\n",
    "    total_count = sum(counts.values())\n",
    "    proportions = np.array(list(counts.values())) / total_count\n",
    "    shannon_index = -np.sum(proportions * np.log(proportions))\n",
    "    return shannon_index\n",
    "\n",
    "# Example usage\n",
    "list1 = ['a', 'b', 'a', 'c', 'a', 'b', 'd']\n",
    "list2 = ['a', 'a', 'a', 'a', 'b', 'b']\n",
    "list3 = ['a', 'b', 'c', 'd', 'e', 'f', 'g', 'h']\n",
    "\n",
    "shannon_diversity_index(list3)"
   ]
  },
  {
   "cell_type": "code",
   "execution_count": 9,
   "id": "a1c0dd30",
   "metadata": {},
   "outputs": [
    {
     "data": {
      "text/plain": [
       "1.277034259466139"
      ]
     },
     "execution_count": 9,
     "metadata": {},
     "output_type": "execute_result"
    }
   ],
   "source": [
    "diversity1"
   ]
  }
 ],
 "metadata": {
  "kernelspec": {
   "display_name": "Python 3 (ipykernel)",
   "language": "python",
   "name": "python3"
  },
  "language_info": {
   "codemirror_mode": {
    "name": "ipython",
    "version": 3
   },
   "file_extension": ".py",
   "mimetype": "text/x-python",
   "name": "python",
   "nbconvert_exporter": "python",
   "pygments_lexer": "ipython3",
   "version": "3.8.15"
  },
  "toc": {
   "base_numbering": 1,
   "nav_menu": {},
   "number_sections": true,
   "sideBar": true,
   "skip_h1_title": false,
   "title_cell": "Table of Contents",
   "title_sidebar": "Contents",
   "toc_cell": false,
   "toc_position": {},
   "toc_section_display": true,
   "toc_window_display": false
  },
  "varInspector": {
   "cols": {
    "lenName": 16,
    "lenType": 16,
    "lenVar": 40
   },
   "kernels_config": {
    "python": {
     "delete_cmd_postfix": "",
     "delete_cmd_prefix": "del ",
     "library": "var_list.py",
     "varRefreshCmd": "print(var_dic_list())"
    },
    "r": {
     "delete_cmd_postfix": ") ",
     "delete_cmd_prefix": "rm(",
     "library": "var_list.r",
     "varRefreshCmd": "cat(var_dic_list()) "
    }
   },
   "types_to_exclude": [
    "module",
    "function",
    "builtin_function_or_method",
    "instance",
    "_Feature"
   ],
   "window_display": false
  }
 },
 "nbformat": 4,
 "nbformat_minor": 5
}
