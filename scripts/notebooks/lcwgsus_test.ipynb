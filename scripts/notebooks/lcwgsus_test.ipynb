{
 "cells": [
  {
   "cell_type": "code",
   "execution_count": 1,
   "id": "061745ef",
   "metadata": {},
   "outputs": [
    {
     "name": "stdout",
     "output_type": "stream",
     "text": [
      "/gpfs3/well/band/users/rbx225/GAMCC\n"
     ]
    },
    {
     "data": {
      "text/plain": [
       "<Figure size 100x100 with 0 Axes>"
      ]
     },
     "metadata": {},
     "output_type": "display_data"
    }
   ],
   "source": [
    "import io\n",
    "import os\n",
    "import sys\n",
    "import csv\n",
    "import gzip\n",
    "import time\n",
    "import json\n",
    "import secrets\n",
    "import multiprocessing\n",
    "import subprocess\n",
    "import resource\n",
    "import pandas as pd\n",
    "import sqlite3\n",
    "import matplotlib.pyplot as plt\n",
    "import numpy as np\n",
    "import scipy as sp\n",
    "import statsmodels.api as sm\n",
    "import random\n",
    "from collections import Counter\n",
    "import seaborn as sns\n",
    "import matplotlib.colors as mcolors\n",
    "import itertools\n",
    "import collections\n",
    "sys.path.append('/well/band/users/rbx225/software/lcwgsus/')\n",
    "# sys.path.append('/Users/sus_zhang/Desktop/Suuuuuuuus/lcwgsus/')\n",
    "import lcwgsus\n",
    "from lcwgsus.variables import *\n",
    "\n",
    "from scipy.stats import poisson\n",
    "from scipy.stats import chi2\n",
    "from scipy.stats import friedmanchisquare\n",
    "from scipy.stats import studentized_range\n",
    "pd.options.mode.chained_assignment = None\n",
    "%cd /gpfs3/well/band/users/rbx225/GAMCC/\n",
    "\n",
    "# from matplotlib import colormaps\n",
    "# list(colormaps)"
   ]
  },
  {
   "cell_type": "code",
   "execution_count": 9,
   "id": "34c50b0c",
   "metadata": {},
   "outputs": [
    {
     "data": {
      "text/html": [
       "<div>\n",
       "<style scoped>\n",
       "    .dataframe tbody tr th:only-of-type {\n",
       "        vertical-align: middle;\n",
       "    }\n",
       "\n",
       "    .dataframe tbody tr th {\n",
       "        vertical-align: top;\n",
       "    }\n",
       "\n",
       "    .dataframe thead th {\n",
       "        text-align: right;\n",
       "    }\n",
       "</style>\n",
       "<table border=\"1\" class=\"dataframe\">\n",
       "  <thead>\n",
       "    <tr style=\"text-align: right;\">\n",
       "      <th></th>\n",
       "      <th>Sample_Name</th>\n",
       "      <th>Seq_Name</th>\n",
       "      <th>Chip_Name</th>\n",
       "    </tr>\n",
       "  </thead>\n",
       "  <tbody>\n",
       "    <tr>\n",
       "      <th>52</th>\n",
       "      <td>GM1294</td>\n",
       "      <td>IDT0532</td>\n",
       "      <td>GAM907384</td>\n",
       "    </tr>\n",
       "  </tbody>\n",
       "</table>\n",
       "</div>"
      ],
      "text/plain": [
       "   Sample_Name Seq_Name  Chip_Name\n",
       "52      GM1294  IDT0532  GAM907384"
      ]
     },
     "execution_count": 9,
     "metadata": {},
     "output_type": "execute_result"
    }
   ],
   "source": [
    "sl = pd.read_csv(SAMPLE_LINKER_FILE)\n",
    "sl[sl['Seq_Name'] == 'IDT0532']"
   ]
  },
  {
   "cell_type": "code",
   "execution_count": 10,
   "id": "5bb41a3b",
   "metadata": {},
   "outputs": [
    {
     "data": {
      "text/html": [
       "<div>\n",
       "<style scoped>\n",
       "    .dataframe tbody tr th:only-of-type {\n",
       "        vertical-align: middle;\n",
       "    }\n",
       "\n",
       "    .dataframe tbody tr th {\n",
       "        vertical-align: top;\n",
       "    }\n",
       "\n",
       "    .dataframe thead th {\n",
       "        text-align: right;\n",
       "    }\n",
       "</style>\n",
       "<table border=\"1\" class=\"dataframe\">\n",
       "  <thead>\n",
       "    <tr style=\"text-align: right;\">\n",
       "      <th></th>\n",
       "      <th>SampleID</th>\n",
       "      <th>Locus</th>\n",
       "      <th>One field1</th>\n",
       "      <th>Two field1</th>\n",
       "      <th>One field2</th>\n",
       "      <th>Two field2</th>\n",
       "    </tr>\n",
       "  </thead>\n",
       "  <tbody>\n",
       "    <tr>\n",
       "      <th>985</th>\n",
       "      <td>GAM907384</td>\n",
       "      <td>A</td>\n",
       "      <td>02</td>\n",
       "      <td>02:02</td>\n",
       "      <td>68</td>\n",
       "      <td>68:01</td>\n",
       "    </tr>\n",
       "    <tr>\n",
       "      <th>986</th>\n",
       "      <td>GAM907384</td>\n",
       "      <td>B</td>\n",
       "      <td>18</td>\n",
       "      <td>18:01</td>\n",
       "      <td>49</td>\n",
       "      <td>49:01</td>\n",
       "    </tr>\n",
       "    <tr>\n",
       "      <th>987</th>\n",
       "      <td>GAM907384</td>\n",
       "      <td>C</td>\n",
       "      <td>03</td>\n",
       "      <td>03:02</td>\n",
       "      <td>07</td>\n",
       "      <td>07:01</td>\n",
       "    </tr>\n",
       "    <tr>\n",
       "      <th>988</th>\n",
       "      <td>GAM907384</td>\n",
       "      <td>DQB1</td>\n",
       "      <td>02</td>\n",
       "      <td>02:02/02:156</td>\n",
       "      <td>06</td>\n",
       "      <td>06:446/06:416Q/06:422N/06:02</td>\n",
       "    </tr>\n",
       "    <tr>\n",
       "      <th>989</th>\n",
       "      <td>GAM907384</td>\n",
       "      <td>DRB1</td>\n",
       "      <td>07</td>\n",
       "      <td>07:139/07:01</td>\n",
       "      <td>11</td>\n",
       "      <td>11:01</td>\n",
       "    </tr>\n",
       "  </tbody>\n",
       "</table>\n",
       "</div>"
      ],
      "text/plain": [
       "      SampleID Locus One field1    Two field1 One field2  \\\n",
       "985  GAM907384     A         02         02:02         68   \n",
       "986  GAM907384     B         18         18:01         49   \n",
       "987  GAM907384     C         03         03:02         07   \n",
       "988  GAM907384  DQB1         02  02:02/02:156         06   \n",
       "989  GAM907384  DRB1         07  07:139/07:01         11   \n",
       "\n",
       "                       Two field2  \n",
       "985                         68:01  \n",
       "986                         49:01  \n",
       "987                         07:01  \n",
       "988  06:446/06:416Q/06:422N/06:02  \n",
       "989                         11:01  "
      ]
     },
     "execution_count": 10,
     "metadata": {},
     "output_type": "execute_result"
    }
   ],
   "source": [
    "hla = lcwgsus.read_hla_direct_sequencing(retain = 'fv')\n",
    "hla[hla['SampleID'] == 'GAM907384']"
   ]
  }
 ],
 "metadata": {
  "kernelspec": {
   "display_name": "Python 3 (ipykernel)",
   "language": "python",
   "name": "python3"
  },
  "language_info": {
   "codemirror_mode": {
    "name": "ipython",
    "version": 3
   },
   "file_extension": ".py",
   "mimetype": "text/x-python",
   "name": "python",
   "nbconvert_exporter": "python",
   "pygments_lexer": "ipython3",
   "version": "3.8.15"
  },
  "toc": {
   "base_numbering": 1,
   "nav_menu": {},
   "number_sections": true,
   "sideBar": true,
   "skip_h1_title": false,
   "title_cell": "Table of Contents",
   "title_sidebar": "Contents",
   "toc_cell": false,
   "toc_position": {},
   "toc_section_display": true,
   "toc_window_display": false
  },
  "varInspector": {
   "cols": {
    "lenName": 16,
    "lenType": 16,
    "lenVar": 40
   },
   "kernels_config": {
    "python": {
     "delete_cmd_postfix": "",
     "delete_cmd_prefix": "del ",
     "library": "var_list.py",
     "varRefreshCmd": "print(var_dic_list())"
    },
    "r": {
     "delete_cmd_postfix": ") ",
     "delete_cmd_prefix": "rm(",
     "library": "var_list.r",
     "varRefreshCmd": "cat(var_dic_list()) "
    }
   },
   "types_to_exclude": [
    "module",
    "function",
    "builtin_function_or_method",
    "instance",
    "_Feature"
   ],
   "window_display": false
  }
 },
 "nbformat": 4,
 "nbformat_minor": 5
}
