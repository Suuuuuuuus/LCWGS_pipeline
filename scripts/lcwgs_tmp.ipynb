{
 "cells": [
  {
   "cell_type": "code",
   "execution_count": 46,
   "id": "84d0195a",
   "metadata": {},
   "outputs": [],
   "source": [
    "import io\n",
    "import os\n",
    "import csv\n",
    "import gzip\n",
    "import time\n",
    "import multiprocessing\n",
    "import resource\n",
    "import pandas as pd\n",
    "import matplotlib.pyplot as plt\n",
    "import numpy as np\n",
    "import scipy as sp\n",
    "import statsmodels.api as sm\n",
    "import random\n",
    "from collections import Counter\n",
    "import matplotlib.colors as mcolors\n",
    "from scipy.stats import poisson\n",
    "import itertools\n",
    "import collections\n",
    "import scipy\n",
    "from scipy.stats import chi2\n",
    "from scipy.stats import friedmanchisquare\n",
    "from scipy.stats import studentized_range\n",
    "pd.options.mode.chained_assignment = None"
   ]
  },
  {
   "cell_type": "code",
   "execution_count": 99,
   "id": "b0518a30",
   "metadata": {},
   "outputs": [],
   "source": [
    "def get_mem():\n",
    "    current_memory_usage = resource.getrusage(resource.RUSAGE_SELF).ru_maxrss\n",
    "    current_memory_usage_mb = current_memory_usage / 1024\n",
    "    print(f\"Current memory usage: {current_memory_usage_mb:.2f} MB\")\n",
    "def read_vcf(file):\n",
    "    with io.TextIOWrapper(gzip.open(file,'r')) as f:\n",
    "        lines =[l for l in f if not l.startswith('##')]\n",
    "        dynamic_header_as_key = []\n",
    "        for liness in f:\n",
    "            if liness.startswith(\"#CHROM\"):\n",
    "                dynamic_header_as_key.append(liness)\n",
    "        values = [str,int,str,str,str,int,str,str,str,str]\n",
    "        columns2detype = dict(zip(dynamic_header_as_key,values))\n",
    "        df = pd.read_csv(\n",
    "            io.StringIO(''.join(lines)),\n",
    "            dtype=columns2detype,\n",
    "            sep='\\t'\n",
    "        ).rename(columns={'#CHROM':'CHROM'})\n",
    "    if df.iloc[:, 0].dtype != int:\n",
    "        df['CHROM'] = df['CHROM'].str.extract(r'(\\d+)')\n",
    "    return df\n",
    "def extract_info(df, info_cols = ['EAF', 'INFO_SCORE'], attribute = 'INFO', drop_attribute = True):\n",
    "    for i in info_cols:\n",
    "        df[i] = df[attribute].str.extract( i + '=([^;]+)' )\n",
    "    if drop_attribute:\n",
    "        df = df.drop(columns = [attribute])\n",
    "    return df\n",
    "def extract_format(df, sample, fmt = 'FORMAT'):\n",
    "    fields = df[fmt].values[0].split(':')\n",
    "    try:\n",
    "        df[fields] = df[sample].str.split(':', expand=True)\n",
    "        if len(fields) != len(df[sample].values[0].split(':')):\n",
    "            raise ValueError(\"Mismatching fields in FORMAT and Imputed results.\")\n",
    "    except ValueError as e:\n",
    "        print(f\"Error: {e}\")\n",
    "    return df.drop(columns = [fmt, sample])\n",
    "def drop_cols(df, drop_lst = ['ID', 'QUAL', 'FILTER']):\n",
    "    return df.drop(columns = drop_lst)\n",
    "\n",
    "def parse_vcf(file, sample, q = None, \n",
    "              info_cols = ['EAF', 'INFO_SCORE'], attribute = 'INFO', fmt = 'FORMAT', drop_attribute = True, drop_lst = ['ID', 'QUAL', 'FILTER']):\n",
    "    df = read_vcf(file)\n",
    "    print('reading: ', file)\n",
    "    df = extract_info(df, info_cols = info_cols, attribute = attribute, drop_attribute = drop_attribute)\n",
    "    df = extract_format(df, sample, fmt = fmt)\n",
    "    df = drop_cols(df, drop_lst = drop_lst)\n",
    "    if q is None:\n",
    "        return df\n",
    "    else:\n",
    "        q.put(df)\n",
    "def concat_vcf(lst):\n",
    "    df = lst[0]\n",
    "    for i in range(1, len(lst)):\n",
    "        df = pd.concat([df, lst[i]])\n",
    "    return df.reset_index(drop = True)\n",
    "\n",
    "def multi_parse(chromosomes, files, sample, n_processes = 22,\n",
    "               info_cols = ['EAF', 'INFO_SCORE'], attribute = 'INFO', fmt = 'FORMAT', drop_attribute = True, drop_lst = ['ID', 'QUAL', 'FILTER']):\n",
    "    manager = multiprocessing.Manager()\n",
    "    q = manager.Queue()\n",
    "    processes = []\n",
    "    for i in range(len(chromosomes)):\n",
    "        tmp = multiprocessing.Process(target=parse_vcf, args=(files[i], sample, q, info_cols, attribute, fmt, drop_attribute, drop_lst))\n",
    "        print('Process created:', str(i+1))\n",
    "        tmp.start()\n",
    "        processes.append(tmp)\n",
    "    for process in processes:\n",
    "        process.join()\n",
    "    res_lst = []\n",
    "    while not q.empty():\n",
    "        res_lst.append(q.get())\n",
    "    return res_lst"
   ]
  },
  {
   "cell_type": "code",
   "execution_count": 100,
   "id": "f05b600b",
   "metadata": {
    "scrolled": true
   },
   "outputs": [
    {
     "name": "stdout",
     "output_type": "stream",
     "text": [
      "Process created: 1\n",
      "Process created: 2\n",
      "Process created: 3\n",
      "Process created: 4\n",
      "Process created: 5\n",
      "Process created: 6\n",
      "Process created: 7\n",
      "Process created: 8\n",
      "Process created: 9\n",
      "Process created: 10\n",
      "Process created: 11\n",
      "Process created: 12\n",
      "Process created: 13\n",
      "Process created: 14\n",
      "Process created: 15\n",
      "Process created: 16\n",
      "Process created: 17\n",
      "Process created: 18\n",
      "Process created: 19\n",
      "Process created: 20\n",
      "Process created: 21\n",
      "Process created: 22\n",
      "reading:  ../../GAMCC_oneKG/test/chr19.vcf.gz\n",
      "reading:  ../../GAMCC_oneKG/test/chr22.vcf.gz\n",
      "reading:  ../../GAMCC_oneKG/test/chr20.vcf.gz\n",
      "reading:  ../../GAMCC_oneKG/test/chr18.vcf.gz\n",
      "reading:  ../../GAMCC_oneKG/test/chr15.vcf.gz\n",
      "reading:  ../../GAMCC_oneKG/test/chr10.vcf.gz\n",
      "reading:  ../../GAMCC_oneKG/test/chr11.vcf.gz\n",
      "reading:  ../../GAMCC_oneKG/test/chr4.vcf.gz\n",
      "151.6055736541748\n"
     ]
    }
   ],
   "source": [
    "chromosomes = [i for i in range(1,23)]\n",
    "sample = 'GM8'\n",
    "files = ['../../GAMCC_oneKG/test/chr' + str(i) + '.vcf.gz' for i in chromosomes]\n",
    "start = time.time()\n",
    "res = multi_parse(chromosomes, files, sample)\n",
    "end = time.time()\n",
    "print(end - start)"
   ]
  },
  {
   "cell_type": "code",
   "execution_count": 101,
   "id": "21c1fead",
   "metadata": {},
   "outputs": [
    {
     "name": "stdout",
     "output_type": "stream",
     "text": [
      "Current memory usage: 39276.40 MB\n"
     ]
    }
   ],
   "source": [
    "get_mem()"
   ]
  }
 ],
 "metadata": {
  "kernelspec": {
   "display_name": "Python 3 (ipykernel)",
   "language": "python",
   "name": "python3"
  },
  "language_info": {
   "codemirror_mode": {
    "name": "ipython",
    "version": 3
   },
   "file_extension": ".py",
   "mimetype": "text/x-python",
   "name": "python",
   "nbconvert_exporter": "python",
   "pygments_lexer": "ipython3",
   "version": "3.9.12"
  }
 },
 "nbformat": 4,
 "nbformat_minor": 5
}
